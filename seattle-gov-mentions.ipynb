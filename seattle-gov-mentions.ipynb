{
 "cells": [
  {
   "cell_type": "code",
   "execution_count": 36,
   "metadata": {
    "collapsed": false
   },
   "outputs": [],
   "source": [
    "import json\n",
    "import dataset\n",
    "import tweepy\n",
    "import time\n",
    "import datetime\n",
    "\n",
    "from selenium import webdriver\n",
    "from selenium.webdriver.common.keys import Keys\n",
    "from selenium.common.exceptions import NoSuchElementException \n",
    "from selenium.common.exceptions import StaleElementReferenceException\n",
    "\n",
    "from config import CONSUMER_KEY, CONSUMER_SECRET, ACCESS_TOKEN, ACCESS_TOKEN_SECRET"
   ]
  },
  {
   "cell_type": "code",
   "execution_count": 126,
   "metadata": {
    "collapsed": true
   },
   "outputs": [],
   "source": [
    "auth = tweepy.AppAuthHandler(CONSUMER_KEY, CONSUMER_SECRET)\n",
    "api = tweepy.API(auth, wait_on_rate_limit=True, wait_on_rate_limit_notify=True)\n",
    "\n",
    "if (not api):\n",
    "    print(\"Can't authenticate\")"
   ]
  },
  {
   "cell_type": "code",
   "execution_count": 182,
   "metadata": {
    "collapsed": true
   },
   "outputs": [],
   "source": [
    "user = 'seattle'\n",
    "\n",
    "start = datetime.datetime(2017, 3, 23)\n",
    "end = datetime.datetime(2017, 3, 30)\n",
    "\n",
    "twitter_ids_filename = 'seattle_ids.json'"
   ]
  },
  {
   "cell_type": "code",
   "execution_count": 128,
   "metadata": {
    "collapsed": false
   },
   "outputs": [],
   "source": [
    "def get_twitter_auth():\n",
    "    \"\"\"Setup Twitter Authentication.\n",
    "    \n",
    "    Return: tweepy.OAuthHandler object\n",
    "    \"\"\"\n",
    "    auth = tweepy.OAuthHandler(CONSUMER_KEY, CONSUMER_SECRET)\n",
    "    auth.set_access_token(ACCESS_TOKEN, ACCESS_TOKEN_SECRET)\n",
    "    return auth\n",
    "    \n",
    "def get_twitter_client():\n",
    "    \"\"\"Setup Twitter API Client.\n",
    "    \n",
    "    Return: tweepy.API object\n",
    "    \"\"\"\n",
    "    auth = get_twitter_auth()\n",
    "    client = tweepy.API(auth, wait_on_rate_limit=True, wait_on_rate_limit_notify=True)\n",
    "    return client\n",
    "\n",
    "client = get_twitter_client()"
   ]
  },
  {
   "cell_type": "code",
   "execution_count": 183,
   "metadata": {
    "collapsed": true
   },
   "outputs": [],
   "source": [
    "def twitter_url(user, start, end):\n",
    "    \"\"\"Form url to access tweets via Twitter's search page.\n",
    "    \n",
    "    Return: string\n",
    "    \"\"\"\n",
    "    # for replies to user\n",
    "    #url1 = 'https://twitter.com/search?f=tweets&q=to%3A'\n",
    "    # for tweets to user\n",
    "    #url1 = 'https://twitter.com/search?f=tweets&q=to%40'\n",
    "    # for search\n",
    "    url1 = 'https://twitter.com/search?f=tweets&q='\n",
    "    url2 = user + '%20since%3A' + start.strftime('%Y-%m-%d') \n",
    "    #url3 = '%20until%3A' + end.strftime('%Y-%m-%d') + '%20include%3Aretweets&src=typd'\n",
    "    url3 = '%20until%3A' + end.strftime('%Y-%m-%d')\n",
    "    return url1 + url2 + url3\n",
    "    \n",
    "def increment_day(date, i):\n",
    "    \"\"\"Increment day object by i days.\n",
    "    \n",
    "    Return: datetime object\n",
    "    \"\"\"\n",
    "    return date + datetime.timedelta(days=i)"
   ]
  },
  {
   "cell_type": "code",
   "execution_count": 138,
   "metadata": {
    "collapsed": false
   },
   "outputs": [
    {
     "name": "stdout",
     "output_type": "stream",
     "text": [
      "https://twitter.com/search?f=tweets&q=to%40cityofseattle%20since%3A2017-03-31%20until%3A2017-03-30\n"
     ]
    }
   ],
   "source": [
    "print(twitter_url(user, start, end))"
   ]
  },
  {
   "cell_type": "code",
   "execution_count": 184,
   "metadata": {
    "collapsed": false
   },
   "outputs": [
    {
     "name": "stdout",
     "output_type": "stream",
     "text": [
      "scrolling down to load more tweets\n",
      "scrolling down to load more tweets\n",
      "scrolling down to load more tweets\n",
      "scrolling down to load more tweets\n",
      "scrolling down to load more tweets\n",
      "scrolling down to load more tweets\n",
      "scrolling down to load more tweets\n",
      "scrolling down to load more tweets\n",
      "scrolling down to load more tweets\n",
      "scrolling down to load more tweets\n",
      "scrolling down to load more tweets\n",
      "scrolling down to load more tweets\n",
      "scrolling down to load more tweets\n",
      "scrolling down to load more tweets\n",
      "scrolling down to load more tweets\n",
      "scrolling down to load more tweets\n",
      "scrolling down to load more tweets\n",
      "scrolling down to load more tweets\n",
      "scrolling down to load more tweets\n",
      "scrolling down to load more tweets\n",
      "scrolling down to load more tweets\n",
      "scrolling down to load more tweets\n",
      "scrolling down to load more tweets\n",
      "scrolling down to load more tweets\n",
      "scrolling down to load more tweets\n",
      "scrolling down to load more tweets\n",
      "scrolling down to load more tweets\n",
      "scrolling down to load more tweets\n",
      "scrolling down to load more tweets\n",
      "scrolling down to load more tweets\n",
      "scrolling down to load more tweets\n",
      "scrolling down to load more tweets\n",
      "scrolling down to load more tweets\n",
      "scrolling down to load more tweets\n",
      "scrolling down to load more tweets\n",
      "scrolling down to load more tweets\n",
      "scrolling down to load more tweets\n",
      "scrolling down to load more tweets\n",
      "scrolling down to load more tweets\n",
      "scrolling down to load more tweets\n",
      "scrolling down to load more tweets\n",
      "scrolling down to load more tweets\n",
      "scrolling down to load more tweets\n",
      "scrolling down to load more tweets\n",
      "scrolling down to load more tweets\n",
      "scrolling down to load more tweets\n",
      "scrolling down to load more tweets\n",
      "scrolling down to load more tweets\n",
      "scrolling down to load more tweets\n",
      "scrolling down to load more tweets\n",
      "scrolling down to load more tweets\n",
      "scrolling down to load more tweets\n",
      "scrolling down to load more tweets\n",
      "scrolling down to load more tweets\n",
      "scrolling down to load more tweets\n",
      "scrolling down to load more tweets\n",
      "scrolling down to load more tweets\n",
      "scrolling down to load more tweets\n",
      "scrolling down to load more tweets\n",
      "scrolling down to load more tweets\n",
      "scrolling down to load more tweets\n",
      "scrolling down to load more tweets\n"
     ]
    },
    {
     "ename": "WebDriverException",
     "evalue": "Message: chrome not reachable\n  (Session info: chrome=56.0.2924.87)\n  (Driver info: chromedriver=2.28.455517 (2c6d2707d8ea850c862f04ac066724273981e88f),platform=Mac OS X 10.12.1 x86_64)\n",
     "output_type": "error",
     "traceback": [
      "\u001b[0;31m---------------------------------------------------------------------------\u001b[0m",
      "\u001b[0;31mWebDriverException\u001b[0m                        Traceback (most recent call last)",
      "\u001b[0;32m<ipython-input-184-f2110787d1c4>\u001b[0m in \u001b[0;36m<module>\u001b[0;34m()\u001b[0m\n\u001b[1;32m     26\u001b[0m             \u001b[0mdriver\u001b[0m\u001b[0;34m.\u001b[0m\u001b[0mexecute_script\u001b[0m\u001b[0;34m(\u001b[0m\u001b[0;34m'window.scrollTo(0, document.body.scrollHeight);'\u001b[0m\u001b[0;34m)\u001b[0m\u001b[0;34m\u001b[0m\u001b[0m\n\u001b[1;32m     27\u001b[0m             \u001b[0mtime\u001b[0m\u001b[0;34m.\u001b[0m\u001b[0msleep\u001b[0m\u001b[0;34m(\u001b[0m\u001b[0mdelay\u001b[0m\u001b[0;34m)\u001b[0m\u001b[0;34m\u001b[0m\u001b[0m\n\u001b[0;32m---> 28\u001b[0;31m             \u001b[0mfound_tweets\u001b[0m \u001b[0;34m=\u001b[0m \u001b[0mdriver\u001b[0m\u001b[0;34m.\u001b[0m\u001b[0mfind_elements_by_css_selector\u001b[0m\u001b[0;34m(\u001b[0m\u001b[0mtweet_selector\u001b[0m\u001b[0;34m)\u001b[0m\u001b[0;34m\u001b[0m\u001b[0m\n\u001b[0m\u001b[1;32m     29\u001b[0m             \u001b[0mincrement\u001b[0m \u001b[0;34m+=\u001b[0m \u001b[0;36m10\u001b[0m\u001b[0;34m\u001b[0m\u001b[0m\n\u001b[1;32m     30\u001b[0m         \u001b[0;31m#print('{} tweets found, {} total'.format(len(found_tweets), len(ids)))\u001b[0m\u001b[0;34m\u001b[0m\u001b[0;34m\u001b[0m\u001b[0m\n",
      "\u001b[0;32m/Users/George/miniconda3/envs/py3k/lib/python3.5/site-packages/selenium/webdriver/remote/webdriver.py\u001b[0m in \u001b[0;36mfind_elements_by_css_selector\u001b[0;34m(self, css_selector)\u001b[0m\n\u001b[1;32m    449\u001b[0m             \u001b[0mdriver\u001b[0m\u001b[0;34m.\u001b[0m\u001b[0mfind_elements_by_css_selector\u001b[0m\u001b[0;34m(\u001b[0m\u001b[0;34m'.foo'\u001b[0m\u001b[0;34m)\u001b[0m\u001b[0;34m\u001b[0m\u001b[0m\n\u001b[1;32m    450\u001b[0m         \"\"\"\n\u001b[0;32m--> 451\u001b[0;31m         \u001b[0;32mreturn\u001b[0m \u001b[0mself\u001b[0m\u001b[0;34m.\u001b[0m\u001b[0mfind_elements\u001b[0m\u001b[0;34m(\u001b[0m\u001b[0mby\u001b[0m\u001b[0;34m=\u001b[0m\u001b[0mBy\u001b[0m\u001b[0;34m.\u001b[0m\u001b[0mCSS_SELECTOR\u001b[0m\u001b[0;34m,\u001b[0m \u001b[0mvalue\u001b[0m\u001b[0;34m=\u001b[0m\u001b[0mcss_selector\u001b[0m\u001b[0;34m)\u001b[0m\u001b[0;34m\u001b[0m\u001b[0m\n\u001b[0m\u001b[1;32m    452\u001b[0m \u001b[0;34m\u001b[0m\u001b[0m\n\u001b[1;32m    453\u001b[0m     \u001b[0;32mdef\u001b[0m \u001b[0mexecute_script\u001b[0m\u001b[0;34m(\u001b[0m\u001b[0mself\u001b[0m\u001b[0;34m,\u001b[0m \u001b[0mscript\u001b[0m\u001b[0;34m,\u001b[0m \u001b[0;34m*\u001b[0m\u001b[0margs\u001b[0m\u001b[0;34m)\u001b[0m\u001b[0;34m:\u001b[0m\u001b[0;34m\u001b[0m\u001b[0m\n",
      "\u001b[0;32m/Users/George/miniconda3/envs/py3k/lib/python3.5/site-packages/selenium/webdriver/remote/webdriver.py\u001b[0m in \u001b[0;36mfind_elements\u001b[0;34m(self, by, value)\u001b[0m\n\u001b[1;32m    780\u001b[0m         return self.execute(Command.FIND_ELEMENTS, {\n\u001b[1;32m    781\u001b[0m             \u001b[0;34m'using'\u001b[0m\u001b[0;34m:\u001b[0m \u001b[0mby\u001b[0m\u001b[0;34m,\u001b[0m\u001b[0;34m\u001b[0m\u001b[0m\n\u001b[0;32m--> 782\u001b[0;31m             'value': value})['value']\n\u001b[0m\u001b[1;32m    783\u001b[0m \u001b[0;34m\u001b[0m\u001b[0m\n\u001b[1;32m    784\u001b[0m     \u001b[0;34m@\u001b[0m\u001b[0mproperty\u001b[0m\u001b[0;34m\u001b[0m\u001b[0m\n",
      "\u001b[0;32m/Users/George/miniconda3/envs/py3k/lib/python3.5/site-packages/selenium/webdriver/remote/webdriver.py\u001b[0m in \u001b[0;36mexecute\u001b[0;34m(self, driver_command, params)\u001b[0m\n\u001b[1;32m    236\u001b[0m         \u001b[0mresponse\u001b[0m \u001b[0;34m=\u001b[0m \u001b[0mself\u001b[0m\u001b[0;34m.\u001b[0m\u001b[0mcommand_executor\u001b[0m\u001b[0;34m.\u001b[0m\u001b[0mexecute\u001b[0m\u001b[0;34m(\u001b[0m\u001b[0mdriver_command\u001b[0m\u001b[0;34m,\u001b[0m \u001b[0mparams\u001b[0m\u001b[0;34m)\u001b[0m\u001b[0;34m\u001b[0m\u001b[0m\n\u001b[1;32m    237\u001b[0m         \u001b[0;32mif\u001b[0m \u001b[0mresponse\u001b[0m\u001b[0;34m:\u001b[0m\u001b[0;34m\u001b[0m\u001b[0m\n\u001b[0;32m--> 238\u001b[0;31m             \u001b[0mself\u001b[0m\u001b[0;34m.\u001b[0m\u001b[0merror_handler\u001b[0m\u001b[0;34m.\u001b[0m\u001b[0mcheck_response\u001b[0m\u001b[0;34m(\u001b[0m\u001b[0mresponse\u001b[0m\u001b[0;34m)\u001b[0m\u001b[0;34m\u001b[0m\u001b[0m\n\u001b[0m\u001b[1;32m    239\u001b[0m             response['value'] = self._unwrap_value(\n\u001b[1;32m    240\u001b[0m                 response.get('value', None))\n",
      "\u001b[0;32m/Users/George/miniconda3/envs/py3k/lib/python3.5/site-packages/selenium/webdriver/remote/errorhandler.py\u001b[0m in \u001b[0;36mcheck_response\u001b[0;34m(self, response)\u001b[0m\n\u001b[1;32m    191\u001b[0m         \u001b[0;32melif\u001b[0m \u001b[0mexception_class\u001b[0m \u001b[0;34m==\u001b[0m \u001b[0mUnexpectedAlertPresentException\u001b[0m \u001b[0;32mand\u001b[0m \u001b[0;34m'alert'\u001b[0m \u001b[0;32min\u001b[0m \u001b[0mvalue\u001b[0m\u001b[0;34m:\u001b[0m\u001b[0;34m\u001b[0m\u001b[0m\n\u001b[1;32m    192\u001b[0m             \u001b[0;32mraise\u001b[0m \u001b[0mexception_class\u001b[0m\u001b[0;34m(\u001b[0m\u001b[0mmessage\u001b[0m\u001b[0;34m,\u001b[0m \u001b[0mscreen\u001b[0m\u001b[0;34m,\u001b[0m \u001b[0mstacktrace\u001b[0m\u001b[0;34m,\u001b[0m \u001b[0mvalue\u001b[0m\u001b[0;34m[\u001b[0m\u001b[0;34m'alert'\u001b[0m\u001b[0;34m]\u001b[0m\u001b[0;34m.\u001b[0m\u001b[0mget\u001b[0m\u001b[0;34m(\u001b[0m\u001b[0;34m'text'\u001b[0m\u001b[0;34m)\u001b[0m\u001b[0;34m)\u001b[0m\u001b[0;34m\u001b[0m\u001b[0m\n\u001b[0;32m--> 193\u001b[0;31m         \u001b[0;32mraise\u001b[0m \u001b[0mexception_class\u001b[0m\u001b[0;34m(\u001b[0m\u001b[0mmessage\u001b[0m\u001b[0;34m,\u001b[0m \u001b[0mscreen\u001b[0m\u001b[0;34m,\u001b[0m \u001b[0mstacktrace\u001b[0m\u001b[0;34m)\u001b[0m\u001b[0;34m\u001b[0m\u001b[0m\n\u001b[0m\u001b[1;32m    194\u001b[0m \u001b[0;34m\u001b[0m\u001b[0m\n\u001b[1;32m    195\u001b[0m     \u001b[0;32mdef\u001b[0m \u001b[0m_value_or_default\u001b[0m\u001b[0;34m(\u001b[0m\u001b[0mself\u001b[0m\u001b[0;34m,\u001b[0m \u001b[0mobj\u001b[0m\u001b[0;34m,\u001b[0m \u001b[0mkey\u001b[0m\u001b[0;34m,\u001b[0m \u001b[0mdefault\u001b[0m\u001b[0;34m)\u001b[0m\u001b[0;34m:\u001b[0m\u001b[0;34m\u001b[0m\u001b[0m\n",
      "\u001b[0;31mWebDriverException\u001b[0m: Message: chrome not reachable\n  (Session info: chrome=56.0.2924.87)\n  (Driver info: chromedriver=2.28.455517 (2c6d2707d8ea850c862f04ac066724273981e88f),platform=Mac OS X 10.12.1 x86_64)\n"
     ]
    }
   ],
   "source": [
    "# Adapted from https://github.com/bpb27/twitter_scraping\n",
    "\n",
    "delay = 1  # time to wait on each page load before reading the page\n",
    "driver = webdriver.Chrome() \n",
    "\n",
    "tweet_selector = 'li.js-stream-item'\n",
    "id_selector = '.time a.tweet-timestamp'\n",
    "\n",
    "ids = list()\n",
    "for day in range((end - start).days + 1):\n",
    "    # Get Twitter search url\n",
    "    startDate = increment_day(start, 0)\n",
    "    endDate = increment_day(start, 1)\n",
    "    url = twitter_url(user, startDate, endDate)\n",
    "\n",
    "    driver.get(url)\n",
    "    time.sleep(delay)\n",
    "\n",
    "    try:\n",
    "        found_tweets = driver.find_elements_by_css_selector(tweet_selector)\n",
    "        increment = 10\n",
    "\n",
    "        # Scroll through the Twitter search page\n",
    "        while len(found_tweets) >= increment:\n",
    "            print('scrolling down to load more tweets')\n",
    "            driver.execute_script('window.scrollTo(0, document.body.scrollHeight);')\n",
    "            time.sleep(delay)\n",
    "            found_tweets = driver.find_elements_by_css_selector(tweet_selector)\n",
    "            increment += 10\n",
    "        #print('{} tweets found, {} total'.format(len(found_tweets), len(ids)))\n",
    "\n",
    "        # Get the IDs for all Tweets\n",
    "        for tweet in found_tweets:\n",
    "            try:\n",
    "                id = tweet.find_element_by_css_selector(id_selector).get_attribute('href').split('/')[-1]\n",
    "                ids.append(id)\n",
    "            except StaleElementReferenceException as e:\n",
    "                print('lost element reference', tweet)\n",
    "\n",
    "    except NoSuchElementException:\n",
    "        print('no tweets on this day')\n",
    "\n",
    "    start = increment_day(start, 1)"
   ]
  },
  {
   "cell_type": "code",
   "execution_count": 185,
   "metadata": {
    "collapsed": false
   },
   "outputs": [
    {
     "data": {
      "text/plain": [
       "0"
      ]
     },
     "execution_count": 185,
     "metadata": {},
     "output_type": "execute_result"
    }
   ],
   "source": [
    "len(ids)"
   ]
  },
  {
   "cell_type": "code",
   "execution_count": 172,
   "metadata": {
    "collapsed": false,
    "scrolled": true
   },
   "outputs": [
    {
     "name": "stdout",
     "output_type": "stream",
     "text": [
      "tweets found on this scrape:  364\n",
      "total tweet count:  364\n",
      "Tweets Scraped!\n"
     ]
    }
   ],
   "source": [
    "try:\n",
    "    with open(twitter_ids_filename) as f:\n",
    "        all_ids = ids + json.load(f)\n",
    "        data_to_write = list(set(all_ids))\n",
    "        print('tweets found on this scrape: ', len(ids))\n",
    "        print('total tweet count: ', len(data_to_write))\n",
    "except FileNotFoundError:\n",
    "    with open(twitter_ids_filename, 'w') as f:\n",
    "        all_ids = ids\n",
    "        data_to_write = list(set(all_ids))\n",
    "        print('tweets found on this scrape: ', len(ids))\n",
    "        print('total tweet count: ', len(data_to_write))\n",
    "\n",
    "with open(twitter_ids_filename, 'w') as outfile:\n",
    "    json.dump(data_to_write, outfile)\n",
    "\n",
    "print('Tweets Scraped!')\n",
    "driver.close()"
   ]
  },
  {
   "cell_type": "code",
   "execution_count": 157,
   "metadata": {
    "collapsed": true
   },
   "outputs": [],
   "source": [
    "def store_tweet(tweet):\n",
    "    # set table\n",
    "    table = db['tweets']\n",
    "    table.insert(tweet)"
   ]
  },
  {
   "cell_type": "code",
   "execution_count": 173,
   "metadata": {
    "collapsed": false
   },
   "outputs": [],
   "source": [
    "db_name = 'seattle'\n",
    "db = dataset.connect('sqlite:///{}.sqlite'.format(db_name))\n",
    "\n",
    "with open(twitter_ids_filename) as f:\n",
    "    ids = json.load(f)\n",
    "    for tweetId in ids:\n",
    "        status = client.get_status(tweetId)\n",
    "        \n",
    "        if hasattr(status, 'entities'):\n",
    "                hashtags = []\n",
    "                for tag in status.entities['hashtags']:\n",
    "                    hashtags.append(tag['text'])\n",
    "                hashtags = json.dumps(hashtags)\n",
    "                \n",
    "                mentions = []\n",
    "                for tag in status.entities['user_mentions']:\n",
    "                    mentions.append(tag['screen_name'])\n",
    "                mentions = json.dumps(mentions)\n",
    "                \n",
    "        tweet_dict = {\n",
    "                    'loc': status.user.location,\n",
    "                    'text': status.text,\n",
    "                    'name': status.user.screen_name,\n",
    "                    'followers': status.user.followers_count,\n",
    "                    'id_str': status.id_str,\n",
    "                    'retweet_count': status.retweet_count,\n",
    "                    'friends_count': status.user.friends_count,\n",
    "                    'favorite_count': status.favorite_count,\n",
    "                    'time': status.created_at,\n",
    "                    'hashtags': hashtags,\n",
    "                    'mentions': mentions\n",
    "                }\n",
    "        store_tweet(tweet_dict)\n",
    "        "
   ]
  },
  {
   "cell_type": "code",
   "execution_count": 177,
   "metadata": {
    "collapsed": false
   },
   "outputs": [],
   "source": [
    "import pandas as pd\n",
    "import sqlite3"
   ]
  },
  {
   "cell_type": "code",
   "execution_count": 178,
   "metadata": {
    "collapsed": true
   },
   "outputs": [],
   "source": [
    "con = sqlite3.connect(db_name + \".sqlite\")"
   ]
  },
  {
   "cell_type": "code",
   "execution_count": 179,
   "metadata": {
    "collapsed": true
   },
   "outputs": [],
   "source": [
    "df = pd.read_sql(\"SELECT * from tweets\", con=con)"
   ]
  },
  {
   "cell_type": "code",
   "execution_count": 180,
   "metadata": {
    "collapsed": false
   },
   "outputs": [
    {
     "data": {
      "text/plain": [
       "364"
      ]
     },
     "execution_count": 180,
     "metadata": {},
     "output_type": "execute_result"
    }
   ],
   "source": [
    "len(df)"
   ]
  },
  {
   "cell_type": "code",
   "execution_count": 181,
   "metadata": {
    "collapsed": false
   },
   "outputs": [
    {
     "data": {
      "text/html": [
       "<div>\n",
       "<table border=\"1\" class=\"dataframe\">\n",
       "  <thead>\n",
       "    <tr style=\"text-align: right;\">\n",
       "      <th></th>\n",
       "      <th>id</th>\n",
       "      <th>followers</th>\n",
       "      <th>favorite_count</th>\n",
       "      <th>retweet_count</th>\n",
       "      <th>time</th>\n",
       "      <th>text</th>\n",
       "      <th>mentions</th>\n",
       "      <th>friends_count</th>\n",
       "      <th>hashtags</th>\n",
       "      <th>loc</th>\n",
       "      <th>name</th>\n",
       "      <th>id_str</th>\n",
       "    </tr>\n",
       "  </thead>\n",
       "  <tbody>\n",
       "    <tr>\n",
       "      <th>0</th>\n",
       "      <td>1</td>\n",
       "      <td>8554</td>\n",
       "      <td>1</td>\n",
       "      <td>2</td>\n",
       "      <td>2016-01-14 16:19:49.000000</td>\n",
       "      <td>Here at #EFC44 listening to @MayorEdMurray tal...</td>\n",
       "      <td>[\"MayorEdMurray\"]</td>\n",
       "      <td>2875</td>\n",
       "      <td>[\"EFC44\", \"earlyed\"]</td>\n",
       "      <td>Seattle, Washington</td>\n",
       "      <td>weareoneamerica</td>\n",
       "      <td>687670462906671104</td>\n",
       "    </tr>\n",
       "    <tr>\n",
       "      <th>1</th>\n",
       "      <td>2</td>\n",
       "      <td>633</td>\n",
       "      <td>0</td>\n",
       "      <td>0</td>\n",
       "      <td>2015-11-02 23:46:08.000000</td>\n",
       "      <td>.@UnitedWayKC SHARE's response to @MayorEdMurr...</td>\n",
       "      <td>[\"UnitedWayKC\", \"MayorEdMurray\"]</td>\n",
       "      <td>634</td>\n",
       "      <td>[]</td>\n",
       "      <td>Seattle, WA</td>\n",
       "      <td>share_shelters</td>\n",
       "      <td>661328470048247808</td>\n",
       "    </tr>\n",
       "    <tr>\n",
       "      <th>2</th>\n",
       "      <td>3</td>\n",
       "      <td>151</td>\n",
       "      <td>1</td>\n",
       "      <td>0</td>\n",
       "      <td>2016-10-13 00:17:14.000000</td>\n",
       "      <td>Shout out to @MayorEdMurray for sweeping ppl a...</td>\n",
       "      <td>[\"MayorEdMurray\"]</td>\n",
       "      <td>552</td>\n",
       "      <td>[\"BloodsOnYourHands\", \"StopTheSweeps\"]</td>\n",
       "      <td>Seattle</td>\n",
       "      <td>BLFsea</td>\n",
       "      <td>786360110285139969</td>\n",
       "    </tr>\n",
       "    <tr>\n",
       "      <th>3</th>\n",
       "      <td>4</td>\n",
       "      <td>4311</td>\n",
       "      <td>0</td>\n",
       "      <td>0</td>\n",
       "      <td>2016-12-09 03:33:56.000000</td>\n",
       "      <td>Shout out to @MayorEdMurray who just gave a co...</td>\n",
       "      <td>[\"MayorEdMurray\"]</td>\n",
       "      <td>983</td>\n",
       "      <td>[]</td>\n",
       "      <td>Washington</td>\n",
       "      <td>HassanPRG</td>\n",
       "      <td>807065718386671620</td>\n",
       "    </tr>\n",
       "    <tr>\n",
       "      <th>4</th>\n",
       "      <td>5</td>\n",
       "      <td>127</td>\n",
       "      <td>0</td>\n",
       "      <td>0</td>\n",
       "      <td>2017-03-07 05:53:31.000000</td>\n",
       "      <td>George Scarola met with folks from the Field a...</td>\n",
       "      <td>[\"MayorEdMurray\"]</td>\n",
       "      <td>597</td>\n",
       "      <td>[]</td>\n",
       "      <td>Seattle, WA</td>\n",
       "      <td>AshleyA_RC</td>\n",
       "      <td>838990977352126464</td>\n",
       "    </tr>\n",
       "  </tbody>\n",
       "</table>\n",
       "</div>"
      ],
      "text/plain": [
       "   id  followers  favorite_count  retweet_count                        time  \\\n",
       "0   1       8554               1              2  2016-01-14 16:19:49.000000   \n",
       "1   2        633               0              0  2015-11-02 23:46:08.000000   \n",
       "2   3        151               1              0  2016-10-13 00:17:14.000000   \n",
       "3   4       4311               0              0  2016-12-09 03:33:56.000000   \n",
       "4   5        127               0              0  2017-03-07 05:53:31.000000   \n",
       "\n",
       "                                                text  \\\n",
       "0  Here at #EFC44 listening to @MayorEdMurray tal...   \n",
       "1  .@UnitedWayKC SHARE's response to @MayorEdMurr...   \n",
       "2  Shout out to @MayorEdMurray for sweeping ppl a...   \n",
       "3  Shout out to @MayorEdMurray who just gave a co...   \n",
       "4  George Scarola met with folks from the Field a...   \n",
       "\n",
       "                           mentions  friends_count  \\\n",
       "0                 [\"MayorEdMurray\"]           2875   \n",
       "1  [\"UnitedWayKC\", \"MayorEdMurray\"]            634   \n",
       "2                 [\"MayorEdMurray\"]            552   \n",
       "3                 [\"MayorEdMurray\"]            983   \n",
       "4                 [\"MayorEdMurray\"]            597   \n",
       "\n",
       "                                 hashtags                  loc  \\\n",
       "0                    [\"EFC44\", \"earlyed\"]  Seattle, Washington   \n",
       "1                                      []          Seattle, WA   \n",
       "2  [\"BloodsOnYourHands\", \"StopTheSweeps\"]             Seattle    \n",
       "3                                      []           Washington   \n",
       "4                                      []          Seattle, WA   \n",
       "\n",
       "              name              id_str  \n",
       "0  weareoneamerica  687670462906671104  \n",
       "1   share_shelters  661328470048247808  \n",
       "2           BLFsea  786360110285139969  \n",
       "3        HassanPRG  807065718386671620  \n",
       "4       AshleyA_RC  838990977352126464  "
      ]
     },
     "execution_count": 181,
     "metadata": {},
     "output_type": "execute_result"
    }
   ],
   "source": [
    "df.head()"
   ]
  },
  {
   "cell_type": "code",
   "execution_count": 122,
   "metadata": {
    "collapsed": false
   },
   "outputs": [
    {
     "data": {
      "text/html": [
       "<div>\n",
       "<table border=\"1\" class=\"dataframe\">\n",
       "  <thead>\n",
       "    <tr style=\"text-align: right;\">\n",
       "      <th></th>\n",
       "      <th>id</th>\n",
       "      <th>followers</th>\n",
       "      <th>favorite_count</th>\n",
       "      <th>retweet_count</th>\n",
       "      <th>time</th>\n",
       "      <th>text</th>\n",
       "      <th>mentions</th>\n",
       "      <th>friends_count</th>\n",
       "      <th>hashtags</th>\n",
       "      <th>loc</th>\n",
       "      <th>name</th>\n",
       "      <th>id_str</th>\n",
       "    </tr>\n",
       "  </thead>\n",
       "  <tbody>\n",
       "    <tr>\n",
       "      <th>796</th>\n",
       "      <td>797</td>\n",
       "      <td>34</td>\n",
       "      <td>0</td>\n",
       "      <td>0</td>\n",
       "      <td>2017-03-30 15:32:58.000000</td>\n",
       "      <td>@cityofseattle @seattleoh how many properties ...</td>\n",
       "      <td>[\"CityofSeattle\", \"seattleoh\"]</td>\n",
       "      <td>190</td>\n",
       "      <td>[]</td>\n",
       "      <td>washington</td>\n",
       "      <td>beastard49</td>\n",
       "      <td>847471722391494657</td>\n",
       "    </tr>\n",
       "  </tbody>\n",
       "</table>\n",
       "</div>"
      ],
      "text/plain": [
       "      id  followers  favorite_count  retweet_count  \\\n",
       "796  797         34               0              0   \n",
       "\n",
       "                           time  \\\n",
       "796  2017-03-30 15:32:58.000000   \n",
       "\n",
       "                                                  text  \\\n",
       "796  @cityofseattle @seattleoh how many properties ...   \n",
       "\n",
       "                           mentions  friends_count hashtags         loc  \\\n",
       "796  [\"CityofSeattle\", \"seattleoh\"]            190       []  washington   \n",
       "\n",
       "           name              id_str  \n",
       "796  beastard49  847471722391494657  "
      ]
     },
     "execution_count": 122,
     "metadata": {},
     "output_type": "execute_result"
    }
   ],
   "source": [
    "df[df.name == 'beastard49']"
   ]
  },
  {
   "cell_type": "code",
   "execution_count": null,
   "metadata": {
    "collapsed": true
   },
   "outputs": [],
   "source": []
  }
 ],
 "metadata": {
  "anaconda-cloud": {},
  "kernelspec": {
   "display_name": "Python [py3k]",
   "language": "python",
   "name": "Python [py3k]"
  },
  "language_info": {
   "codemirror_mode": {
    "name": "ipython",
    "version": 3
   },
   "file_extension": ".py",
   "mimetype": "text/x-python",
   "name": "python",
   "nbconvert_exporter": "python",
   "pygments_lexer": "ipython3",
   "version": "3.5.2"
  }
 },
 "nbformat": 4,
 "nbformat_minor": 0
}
