{
 "cells": [
  {
   "cell_type": "code",
   "execution_count": 1,
   "metadata": {
    "collapsed": true
   },
   "outputs": [],
   "source": [
    "import json\n",
    "import dataset\n",
    "import tweepy\n",
    "from config import CONSUMER_KEY, CONSUMER_SECRET, ACCESS_TOKEN, ACCESS_TOKEN_SECRET"
   ]
  },
  {
   "cell_type": "code",
   "execution_count": 28,
   "metadata": {
    "collapsed": false
   },
   "outputs": [],
   "source": [
    "class SeattleStreamListener(tweepy.StreamListener):\n",
    "    def __init__(self, api=None):\n",
    "        super(SeattleStreamListener, self).__init__()\n",
    "        self.num_tweets = 0\n",
    "        \n",
    "    def on_status(self, status):\n",
    "        if self.num_tweets >= limit:\n",
    "            print('\\n \\n Stored {} tweets {}'.format(limit, db))\n",
    "            return False\n",
    "        \n",
    "        if hasattr(status, 'retweeted_status'):\n",
    "            return\n",
    "\n",
    "        else:\n",
    "            self.num_tweets += 1\n",
    "            if print_to_notebook == 1:\n",
    "                print(status.text)\n",
    "\n",
    "            if hasattr(status, 'entities'):\n",
    "                hashtags = []\n",
    "                for tag in status.entities['hashtags']:\n",
    "                    hashtags.append(tag['text'])\n",
    "                hashtags = json.dumps(hashtags)\n",
    "\n",
    "        tweet_dict = {\n",
    "                    'description': status.user.description,\n",
    "                    'loc': status.user.location,\n",
    "                    'text': status.text,\n",
    "                    'name': status.user.screen_name,\n",
    "                    'user_created': status.user.created_at,\n",
    "                    'followers': status.user.followers_count,\n",
    "                    'id_str': status.id_str,\n",
    "                    'retweet_count': status.retweet_count,\n",
    "                    'friends_count': status.user.friends_count,\n",
    "                    'favorite_count': status.favorite_count,\n",
    "                    'hashtags': hashtags\n",
    "                }\n",
    "\n",
    "        store_tweet(tweet_dict)\n",
    "            \n",
    "    def on_error(self, status_code):\n",
    "        '''Twitter is rate limiting, exit'''\n",
    "\n",
    "        if status_code == 420:\n",
    "            print('Twitter rate limit error_code {}, exiting...'.format(status_code))\n",
    "            return False"
   ]
  },
  {
   "cell_type": "code",
   "execution_count": 29,
   "metadata": {
    "collapsed": true
   },
   "outputs": [],
   "source": [
    "def store_tweet(tweet_dict):\n",
    "    # set table\n",
    "    table = db['tweets']\n",
    "    table.insert(tweet_dict)"
   ]
  },
  {
   "cell_type": "code",
   "execution_count": 30,
   "metadata": {
    "collapsed": true
   },
   "outputs": [],
   "source": [
    "location = [-122.450238,47.434415,-122.213336,47.757275]\n",
    "limit = 20\n",
    "db_name = 'seattle_location_stream'\n",
    "print_to_notebook = 1"
   ]
  },
  {
   "cell_type": "code",
   "execution_count": 31,
   "metadata": {
    "collapsed": true
   },
   "outputs": [],
   "source": [
    "auth = tweepy.OAuthHandler(CONSUMER_KEY, CONSUMER_SECRET)\n",
    "auth.set_access_token(ACCESS_TOKEN, ACCESS_TOKEN_SECRET)\n",
    "api = tweepy.API(auth)"
   ]
  },
  {
   "cell_type": "code",
   "execution_count": 32,
   "metadata": {
    "collapsed": false
   },
   "outputs": [],
   "source": [
    "stream_listener = SeattleStreamListener()\n",
    "sapi = tweepy.Stream(auth=api.auth, listener=stream_listener)    \n",
    "db = dataset.connect('sqlite:///{}.sqlite'.format(db_name))"
   ]
  },
  {
   "cell_type": "code",
   "execution_count": 33,
   "metadata": {
    "collapsed": false
   },
   "outputs": [
    {
     "name": "stdout",
     "output_type": "stream",
     "text": [
      "@adribbleofink which I also love. The fact that LOTR is so deep that it rewards so much rereading is why it is so good. It is literature.\n",
      "@britneyspears If you can't talk 2 me I wanna GET YOU!\n",
      "#Trump #TheResistance ✊🏾 https://t.co/M8PHmByEU2\n",
      "Casey Neistat X Marquees Brownlee is everything I've ever wanted\n",
      "This just in... Creating and governing is hard... Whining and lies are not. https://t.co/70o82kHYT9\n",
      "I'm truly convinced that I'm related to @joannadandy. Wonderful (dark) sense of humour &amp; brilliant writer. Find her blog! #FF #FollowFriday\n",
      "I work for the best car make out there 😌 just knoooo. #audi\n",
      "Holy heck tomorrow is Saturday. The Saturday 3AM tweet rant from 9x5 is going to be EPIC! #Trumpcarefail\n",
      "I've been so happy &amp; proud of myself lately &amp; no one can tear me down\n",
      "man what the fuck\n",
      "@MikeWiLLMadeIt is the prime example on why networking, keeping good relationships, and loyalty is key to success. New album is 🔥\n",
      "Showing the cousin everything there is to know about having a #gaycousin in her life!… https://t.co/hEoVoIR2Gk\n",
      "\"Sausage fest \" https://t.co/aBvPvfJFYS\n",
      "@FoxNews @potus pretty sure the left &amp; extreme right just bought in to DJTs play book.He's playing you like a fiddle.ACA fails DJT wins BIG\n",
      "It's perhaps the biggest waste of time in legislative history. https://t.co/sDACJxTTix\n",
      "Food here reminds me of Cancun 🤔\n",
      "I guess this place is alright 😍 @ Pike Place Market https://t.co/O7KptsJSa0\n",
      "@IzaiahDarko me too\n",
      "Garmin fēnix 5 available for pre-order (route log &amp; map https://t.co/vc6SUgceTC) #BeBoston 509km➡️232km https://t.co/Ny9gSkt7nv\n",
      "What do you call a horse with wings and a horn?\n",
      "\n",
      " \n",
      " Stored 20 tweets <Database(sqlite:///tweet-stream.sqlite)>\n"
     ]
    }
   ],
   "source": [
    "sapi.filter(locations=location)"
   ]
  },
  {
   "cell_type": "code",
   "execution_count": 39,
   "metadata": {
    "collapsed": true
   },
   "outputs": [],
   "source": [
    "import pandas as pd\n",
    "import sqlite3"
   ]
  },
  {
   "cell_type": "code",
   "execution_count": 50,
   "metadata": {
    "collapsed": true
   },
   "outputs": [],
   "source": [
    "con = sqlite3.connect(db_name + \".sqlite\")"
   ]
  },
  {
   "cell_type": "code",
   "execution_count": 51,
   "metadata": {
    "collapsed": false
   },
   "outputs": [],
   "source": [
    "df = pd.read_sql(\"SELECT * from tweets\", con=con)"
   ]
  },
  {
   "cell_type": "code",
   "execution_count": null,
   "metadata": {
    "collapsed": true
   },
   "outputs": [],
   "source": []
  }
 ],
 "metadata": {
  "anaconda-cloud": {},
  "kernelspec": {
   "display_name": "Python [py3k]",
   "language": "python",
   "name": "Python [py3k]"
  },
  "language_info": {
   "codemirror_mode": {
    "name": "ipython",
    "version": 3
   },
   "file_extension": ".py",
   "mimetype": "text/x-python",
   "name": "python",
   "nbconvert_exporter": "python",
   "pygments_lexer": "ipython3",
   "version": "3.5.2"
  }
 },
 "nbformat": 4,
 "nbformat_minor": 0
}
